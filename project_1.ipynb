{
 "cells": [
  {
   "cell_type": "code",
   "execution_count": 1,
   "id": "0808f653-44e8-40df-a261-426469d9b2a5",
   "metadata": {},
   "outputs": [
    {
     "name": "stdout",
     "output_type": "stream",
     "text": [
      "Requirement already satisfied: faker in c:\\users\\krishna chaithanya\\appdata\\local\\programs\\python\\python310\\lib\\site-packages (28.4.1)\n",
      "Requirement already satisfied: python-dateutil>=2.4 in c:\\users\\krishna chaithanya\\appdata\\local\\programs\\python\\python310\\lib\\site-packages (from faker) (2.9.0.post0)\n",
      "Requirement already satisfied: six>=1.5 in c:\\users\\krishna chaithanya\\appdata\\local\\programs\\python\\python310\\lib\\site-packages (from python-dateutil>=2.4->faker) (1.16.0)\n",
      "Note: you may need to restart the kernel to use updated packages.\n"
     ]
    },
    {
     "name": "stderr",
     "output_type": "stream",
     "text": [
      "WARNING: You are using pip version 21.2.4; however, version 24.2 is available.\n",
      "You should consider upgrading via the 'C:\\Users\\krishna chaithanya\\AppData\\Local\\Programs\\Python\\Python310\\python.exe -m pip install --upgrade pip' command.\n"
     ]
    }
   ],
   "source": [
    "pip install faker"
   ]
  },
  {
   "cell_type": "code",
   "execution_count": 2,
   "id": "b6aab1c6-2521-4f32-bff0-936d999bdf52",
   "metadata": {},
   "outputs": [],
   "source": [
    "import csv\n",
    "import random\n",
    "from faker import Faker\n",
    "from datetime import datetime"
   ]
  },
  {
   "cell_type": "code",
   "execution_count": 3,
   "id": "68bd94a0-e56c-4c3b-b68b-5291143624ca",
   "metadata": {},
   "outputs": [],
   "source": [
    "#initialize Faker\n",
    "fake = Faker()\n",
    "random.seed(42)"
   ]
  },
  {
   "cell_type": "code",
   "execution_count": 4,
   "id": "16426324-15aa-498b-a17a-f8aeceaa2f2a",
   "metadata": {},
   "outputs": [],
   "source": [
    "# Define the schema fields\n",
    "fields = [\n",
    "    'order_id', 'customer_id', 'customer_name', 'product_id', 'product_name',\n",
    "    'product_category', 'payment_type', 'qty', 'price', 'datetime', 'country',\n",
    "    'city', 'ecommerce_website_name', 'payment_txn_id', 'payment_txn_success',\n",
    "    'failure_reason'\n",
    "]"
   ]
  },
  {
   "cell_type": "code",
   "execution_count": 5,
   "id": "762e4943-b094-431d-bbce-3d20154fb7d5",
   "metadata": {},
   "outputs": [],
   "source": [
    "# Define sample data\n",
    "product_categories = ['Stationery', 'Electronics', 'Books', 'Clothing', 'Toys']\n",
    "payment_types = ['Card', 'Internet Banking', 'UPI', 'Wallet']\n",
    "countries = {\n",
    "    'India': ['Mumbai', 'Delhi', 'Bengaluru', 'Chennai', 'Kolkata'],\n",
    "    'USA': ['New York', 'Los Angeles', 'Chicago', 'Houston', 'Boston'],\n",
    "    'UK': ['London', 'Manchester', 'Birmingham', 'Leeds', 'Oxford'],\n",
    "    'Germany': ['Berlin', 'Munich', 'Frankfurt', 'Hamburg', 'Stuttgart']\n",
    "}\n",
    "websites = ['www.amazon.com', 'www.flipkart.com', 'www.ebay.in', 'www.tatacliq.com', 'www.snapdeal.com']"
   ]
  },
  {
   "cell_type": "code",
   "execution_count": 6,
   "id": "5a921c9a-6cf3-4044-b351-1cb46e4ecb40",
   "metadata": {},
   "outputs": [],
   "source": [
    "# Function to generate a single record\n",
    "def generate_record(order_id):\n",
    "    customer_id = random.randint(100, 999)\n",
    "    customer_name = fake.name()\n",
    "    product_id = random.randint(200, 299)\n",
    "    product_name = fake.word().capitalize()\n",
    "    product_category = random.choice(product_categories)\n",
    "    payment_type = random.choice(payment_types)\n",
    "    qty = random.randint(1, 10)\n",
    "    price = round(random.uniform(5.0, 1000.0), 2)\n",
    "    order_datetime = fake.date_time_between(start_date='-1y', end_date='now').strftime(\"%Y-%m-%d %H:%M\")\n",
    "    country = random.choice(list(countries.keys()))\n",
    "    city = random.choice(countries[country])\n",
    "    ecommerce_website_name = random.choice(websites)\n",
    "    payment_txn_id = fake.uuid4().split('-')[0]\n",
    "    payment_txn_success = random.choice(['Y', 'N'])\n",
    "    failure_reason = \"\" if payment_txn_success == 'Y' else \"Invalid CVV.\"\n",
    "    \n",
    "    return [\n",
    "        order_id, customer_id, customer_name, product_id, product_name,\n",
    "        product_category, payment_type, qty, price, order_datetime, country,\n",
    "        city, ecommerce_website_name, payment_txn_id, payment_txn_success,\n",
    "        failure_reason\n",
    "    ]"
   ]
  },
  {
   "cell_type": "code",
   "execution_count": 7,
   "id": "dfb0a6ec-a8fe-4da2-8623-e713a31b85ae",
   "metadata": {},
   "outputs": [
    {
     "name": "stdout",
     "output_type": "stream",
     "text": [
      "Data generation complete. The file 'ecommerce_data.csv' has been created.\n"
     ]
    }
   ],
   "source": [
    "# Generate 10,000 records and write to CSV\n",
    "with open('ecommerce_data.csv', 'w', newline='') as file:\n",
    "    writer = csv.writer(file)\n",
    "    writer.writerow(fields)  # Write the header\n",
    "    for order_id in range(1, 10001):\n",
    "        writer.writerow(generate_record(order_id))\n",
    "\n",
    "print(\"Data generation complete. The file 'ecommerce_data.csv' has been created.\") "
   ]
  },
  {
   "cell_type": "code",
   "execution_count": null,
   "id": "7d698e15-b30e-49b0-846b-ec96e9573071",
   "metadata": {},
   "outputs": [],
   "source": []
  }
 ],
 "metadata": {
  "kernelspec": {
   "display_name": "PySpark 3.3.1",
   "language": "python",
   "name": "pyspark3.3.1"
  },
  "language_info": {
   "codemirror_mode": {
    "name": "ipython",
    "version": 3
   },
   "file_extension": ".py",
   "mimetype": "text/x-python",
   "name": "python",
   "nbconvert_exporter": "python",
   "pygments_lexer": "ipython3",
   "version": "3.10.1"
  }
 },
 "nbformat": 4,
 "nbformat_minor": 5
}
