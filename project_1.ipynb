{
 "cells": [
  {
   "cell_type": "code",
   "execution_count": 1,
   "id": "0808f653-44e8-40df-a261-426469d9b2a5",
   "metadata": {},
   "outputs": [
    {
     "name": "stdout",
     "output_type": "stream",
     "text": [
      "Requirement already satisfied: faker in c:\\users\\krishna chaithanya\\appdata\\local\\programs\\python\\python310\\lib\\site-packages (28.4.1)\n",
      "Requirement already satisfied: python-dateutil>=2.4 in c:\\users\\krishna chaithanya\\appdata\\local\\programs\\python\\python310\\lib\\site-packages (from faker) (2.9.0.post0)\n",
      "Requirement already satisfied: six>=1.5 in c:\\users\\krishna chaithanya\\appdata\\local\\programs\\python\\python310\\lib\\site-packages (from python-dateutil>=2.4->faker) (1.16.0)\n",
      "Note: you may need to restart the kernel to use updated packages.\n"
     ]
    },
    {
     "name": "stderr",
     "output_type": "stream",
     "text": [
      "WARNING: You are using pip version 21.2.4; however, version 24.2 is available.\n",
      "You should consider upgrading via the 'C:\\Users\\krishna chaithanya\\AppData\\Local\\Programs\\Python\\Python310\\python.exe -m pip install --upgrade pip' command.\n"
     ]
    }
   ],
   "source": [
    "pip install faker"
   ]
  },
  {
   "cell_type": "code",
   "execution_count": 2,
   "id": "b6aab1c6-2521-4f32-bff0-936d999bdf52",
   "metadata": {},
   "outputs": [],
   "source": [
    "import csv\n",
    "import random\n",
    "from faker import Faker\n",
    "from datetime import datetime"
   ]
  },
  {
   "cell_type": "code",
   "execution_count": 3,
   "id": "68bd94a0-e56c-4c3b-b68b-5291143624ca",
   "metadata": {},
   "outputs": [],
   "source": [
    "#initialize Faker\n",
    "fake = Faker()\n",
    "random.seed(42)"
   ]
  },
  {
   "cell_type": "code",
   "execution_count": 4,
   "id": "16426324-15aa-498b-a17a-f8aeceaa2f2a",
   "metadata": {},
   "outputs": [],
   "source": [
    "# Define the schema fields\n",
    "fields = [\n",
    "    'order_id', 'customer_id', 'customer_name', 'product_id', 'product_name',\n",
    "    'product_category', 'payment_type', 'qty', 'price', 'datetime', 'country',\n",
    "    'city', 'ecommerce_website_name', 'payment_txn_id', 'payment_txn_success',\n",
    "    'failure_reason'\n",
    "]"
   ]
  },
  {
   "cell_type": "code",
   "execution_count": 5,
   "id": "762e4943-b094-431d-bbce-3d20154fb7d5",
   "metadata": {},
   "outputs": [],
   "source": [
    "# Define sample data\n",
    "product_categories = ['Stationery', 'Electronics', 'Books', 'Clothing', 'Toys']\n",
    "payment_types = ['Card', 'Internet Banking', 'UPI', 'Wallet']\n",
    "countries = {\n",
    "    'India': ['Mumbai', 'Delhi', 'Bengaluru', 'Chennai', 'Kolkata'],\n",
    "    'USA': ['New York', 'Los Angeles', 'Chicago', 'Houston', 'Boston'],\n",
    "    'UK': ['London', 'Manchester', 'Birmingham', 'Leeds', 'Oxford'],\n",
    "    'Germany': ['Berlin', 'Munich', 'Frankfurt', 'Hamburg', 'Stuttgart']\n",
    "}\n",
    "websites = ['www.amazon.com', 'www.flipkart.com', 'www.ebay.in', 'www.tatacliq.com', 'www.snapdeal.com']"
   ]
  },
  {
   "cell_type": "code",
   "execution_count": 6,
   "id": "5a921c9a-6cf3-4044-b351-1cb46e4ecb40",
   "metadata": {},
   "outputs": [],
   "source": [
    "# Function to generate a single record\n",
    "def generate_record(order_id):\n",
    "    customer_id = random.randint(100, 999)\n",
    "    customer_name = fake.name()\n",
    "    product_id = random.randint(200, 299)\n",
    "    product_name = fake.word().capitalize()\n",
    "    product_category = random.choice(product_categories)\n",
    "    payment_type = random.choice(payment_types)\n",
    "    qty = random.randint(1, 10)\n",
    "    price = round(random.uniform(5.0, 1000.0), 2)\n",
    "    order_datetime = fake.date_time_between(start_date='-1y', end_date='now').strftime(\"%Y-%m-%d %H:%M\")\n",
    "    country = random.choice(list(countries.keys()))\n",
    "    city = random.choice(countries[country])\n",
    "    ecommerce_website_name = random.choice(websites)\n",
    "    payment_txn_id = fake.uuid4().split('-')[0]\n",
    "    payment_txn_success = random.choice(['Y', 'N'])\n",
    "    failure_reason = \"\" if payment_txn_success == 'Y' else \"Invalid CVV.\"\n",
    "    \n",
    "    return [\n",
    "        order_id, customer_id, customer_name, product_id, product_name,\n",
    "        product_category, payment_type, qty, price, order_datetime, country,\n",
    "        city, ecommerce_website_name, payment_txn_id, payment_txn_success,\n",
    "        failure_reason\n",
    "    ]"
   ]
  },
  {
   "cell_type": "code",
   "execution_count": 7,
   "id": "dfb0a6ec-a8fe-4da2-8623-e713a31b85ae",
   "metadata": {},
   "outputs": [
    {
     "name": "stdout",
     "output_type": "stream",
     "text": [
      "Data generation complete. The file 'ecommerce_data.csv' has been created.\n"
     ]
    }
   ],
   "source": [
    "# Generate 10,000 records and write to CSV\n",
    "with open('ecommerce_data.csv', 'w', newline='') as file:\n",
    "    writer = csv.writer(file)\n",
    "    writer.writerow(fields)  # Write the header\n",
    "    for order_id in range(1, 10001):\n",
    "        writer.writerow(generate_record(order_id))\n",
    "\n",
    "print(\"Data generation complete. The file 'ecommerce_data.csv' has been created.\") "
   ]
  },
  {
   "cell_type": "code",
   "execution_count": 8,
   "id": "7d698e15-b30e-49b0-846b-ec96e9573071",
   "metadata": {},
   "outputs": [],
   "source": [
    "import pandas as pd"
   ]
  },
  {
   "cell_type": "code",
   "execution_count": 9,
   "id": "02453804-b22e-4fdd-8b38-1a925294b4e5",
   "metadata": {},
   "outputs": [
    {
     "name": "stdout",
     "output_type": "stream",
     "text": [
      "      order_id  customer_id    customer_name  product_id product_name  \\\n",
      "0            1          754   Thomas Schultz         214         Data   \n",
      "1            2          132   Matthew Lawson         203     Language   \n",
      "2            3          325     Dana Acevedo         257     Probably   \n",
      "3            4          259    Mario Anthony         227    Structure   \n",
      "4            5          926  Dr. Justin Cruz         205          Sit   \n",
      "...        ...          ...              ...         ...          ...   \n",
      "9995      9996          718    John Williams         204         Fall   \n",
      "9996      9997          991   Veronica Lewis         218     Specific   \n",
      "9997      9998          182      John Graham         211       Former   \n",
      "9998      9999          326     Beverly Moon         209      College   \n",
      "9999     10000          106    Andrew Nguyen         295       Policy   \n",
      "\n",
      "     product_category      payment_type  qty   price          datetime  \\\n",
      "0          Stationery               UPI    4  227.09  2024-04-18 22:08   \n",
      "1          Stationery  Internet Banking    4  507.83  2023-09-19 13:10   \n",
      "2                Toys               UPI    1  760.01  2023-09-16 11:40   \n",
      "3               Books              Card    2  383.03  2024-01-05 01:26   \n",
      "4            Clothing              Card    7   83.41  2024-06-03 23:03   \n",
      "...               ...               ...  ...     ...               ...   \n",
      "9995       Stationery               UPI    2  514.36  2024-08-29 17:23   \n",
      "9996       Stationery            Wallet    7  829.09  2023-09-18 18:35   \n",
      "9997         Clothing               UPI    6  117.77  2023-12-08 03:33   \n",
      "9998       Stationery              Card    2  730.16  2023-12-12 09:36   \n",
      "9999             Toys               UPI   10  476.13  2024-06-22 20:02   \n",
      "\n",
      "      country        city ecommerce_website_name payment_txn_id  \\\n",
      "0       India     Kolkata         www.amazon.com       f03b1dca   \n",
      "1       India     Kolkata       www.flipkart.com       1fa817d5   \n",
      "2         USA     Houston            www.ebay.in       d156f089   \n",
      "3          UK  Birmingham       www.snapdeal.com       2b323371   \n",
      "4          UK      Oxford            www.ebay.in       01faa5bc   \n",
      "...       ...         ...                    ...            ...   \n",
      "9995    India       Delhi       www.tatacliq.com       03d98c86   \n",
      "9996    India      Mumbai       www.flipkart.com       b18a9cb7   \n",
      "9997      USA     Chicago       www.tatacliq.com       0f8bab19   \n",
      "9998  Germany      Berlin         www.amazon.com       fbb65182   \n",
      "9999  Germany      Berlin       www.tatacliq.com       5fd1c0ff   \n",
      "\n",
      "     payment_txn_success failure_reason  \n",
      "0                      N   Invalid CVV.  \n",
      "1                      N   Invalid CVV.  \n",
      "2                      N   Invalid CVV.  \n",
      "3                      N   Invalid CVV.  \n",
      "4                      Y            NaN  \n",
      "...                  ...            ...  \n",
      "9995                   N   Invalid CVV.  \n",
      "9996                   Y            NaN  \n",
      "9997                   N   Invalid CVV.  \n",
      "9998                   Y            NaN  \n",
      "9999                   Y            NaN  \n",
      "\n",
      "[10000 rows x 16 columns]\n"
     ]
    }
   ],
   "source": [
    "# Load the dataset\n",
    "data = pd.read_csv('ecommerce_data.csv')\n",
    "print(data)"
   ]
  },
  {
   "cell_type": "code",
   "execution_count": 10,
   "id": "cea26c0b-b48e-4cd8-9111-711fced63fde",
   "metadata": {},
   "outputs": [
    {
     "name": "stdout",
     "output_type": "stream",
     "text": [
      "   order_id  customer_id    customer_name  product_id product_name  \\\n",
      "0         1          754   Thomas Schultz         214         Data   \n",
      "1         2          132   Matthew Lawson         203     Language   \n",
      "2         3          325     Dana Acevedo         257     Probably   \n",
      "3         4          259    Mario Anthony         227    Structure   \n",
      "4         5          926  Dr. Justin Cruz         205          Sit   \n",
      "\n",
      "  product_category      payment_type  qty   price          datetime country  \\\n",
      "0       Stationery               UPI    4  227.09  2024-04-18 22:08   India   \n",
      "1       Stationery  Internet Banking    4  507.83  2023-09-19 13:10   India   \n",
      "2             Toys               UPI    1  760.01  2023-09-16 11:40     USA   \n",
      "3            Books              Card    2  383.03  2024-01-05 01:26      UK   \n",
      "4         Clothing              Card    7   83.41  2024-06-03 23:03      UK   \n",
      "\n",
      "         city ecommerce_website_name payment_txn_id payment_txn_success  \\\n",
      "0     Kolkata         www.amazon.com       f03b1dca                   N   \n",
      "1     Kolkata       www.flipkart.com       1fa817d5                   N   \n",
      "2     Houston            www.ebay.in       d156f089                   N   \n",
      "3  Birmingham       www.snapdeal.com       2b323371                   N   \n",
      "4      Oxford            www.ebay.in       01faa5bc                   Y   \n",
      "\n",
      "  failure_reason  \n",
      "0   Invalid CVV.  \n",
      "1   Invalid CVV.  \n",
      "2   Invalid CVV.  \n",
      "3   Invalid CVV.  \n",
      "4            NaN  \n"
     ]
    }
   ],
   "source": [
    "# Display the first few rows\n",
    "print(data.head())"
   ]
  },
  {
   "cell_type": "code",
   "execution_count": 11,
   "id": "4dc15019-77ae-4767-b490-7288f35bf918",
   "metadata": {},
   "outputs": [
    {
     "name": "stdout",
     "output_type": "stream",
     "text": [
      "<class 'pandas.core.frame.DataFrame'>\n",
      "RangeIndex: 10000 entries, 0 to 9999\n",
      "Data columns (total 16 columns):\n",
      " #   Column                  Non-Null Count  Dtype  \n",
      "---  ------                  --------------  -----  \n",
      " 0   order_id                10000 non-null  int64  \n",
      " 1   customer_id             10000 non-null  int64  \n",
      " 2   customer_name           10000 non-null  object \n",
      " 3   product_id              10000 non-null  int64  \n",
      " 4   product_name            9992 non-null   object \n",
      " 5   product_category        10000 non-null  object \n",
      " 6   payment_type            10000 non-null  object \n",
      " 7   qty                     10000 non-null  int64  \n",
      " 8   price                   10000 non-null  float64\n",
      " 9   datetime                10000 non-null  object \n",
      " 10  country                 10000 non-null  object \n",
      " 11  city                    10000 non-null  object \n",
      " 12  ecommerce_website_name  10000 non-null  object \n",
      " 13  payment_txn_id          10000 non-null  object \n",
      " 14  payment_txn_success     10000 non-null  object \n",
      " 15  failure_reason          4984 non-null   object \n",
      "dtypes: float64(1), int64(4), object(11)\n",
      "memory usage: 1.2+ MB\n",
      "None\n"
     ]
    }
   ],
   "source": [
    "# Display the data types and missing values\n",
    "print(data.info())"
   ]
  },
  {
   "cell_type": "code",
   "execution_count": 12,
   "id": "ecb11f7c-eb26-4cca-bbc1-e08d0b5acbe7",
   "metadata": {},
   "outputs": [
    {
     "name": "stdout",
     "output_type": "stream",
     "text": [
      "          order_id   customer_id    product_id         qty         price\n",
      "count  10000.00000  10000.000000  10000.000000  10000.0000  10000.000000\n",
      "mean    5000.50000    547.739500    249.302400      5.5123    506.977226\n",
      "std     2886.89568    260.198988     29.047935      2.8701    289.339545\n",
      "min        1.00000    100.000000    200.000000      1.0000      5.050000\n",
      "25%     2500.75000    321.000000    224.000000      3.0000    254.002500\n",
      "50%     5000.50000    542.000000    249.000000      5.0000    507.120000\n",
      "75%     7500.25000    774.000000    275.000000      8.0000    760.857500\n",
      "max    10000.00000    999.000000    299.000000     10.0000    999.980000\n"
     ]
    }
   ],
   "source": [
    "# Summary statistics for numerical columns\n",
    "print(data.describe())"
   ]
  },
  {
   "cell_type": "code",
   "execution_count": 13,
   "id": "c0b7b72a-b5de-4126-8552-d856ca59de51",
   "metadata": {},
   "outputs": [
    {
     "name": "stdout",
     "output_type": "stream",
     "text": [
      "order_id                    int64\n",
      "customer_id                 int64\n",
      "customer_name              object\n",
      "product_id                  int64\n",
      "product_name               object\n",
      "product_category           object\n",
      "payment_type               object\n",
      "qty                         int64\n",
      "price                     float64\n",
      "datetime                   object\n",
      "country                    object\n",
      "city                       object\n",
      "ecommerce_website_name     object\n",
      "payment_txn_id             object\n",
      "payment_txn_success        object\n",
      "failure_reason             object\n",
      "dtype: object\n"
     ]
    }
   ],
   "source": [
    "# checking the data types of each column\n",
    "print(data.dtypes)"
   ]
  },
  {
   "cell_type": "code",
   "execution_count": 14,
   "id": "a341e798-a030-4369-a8fa-35c7086af352",
   "metadata": {},
   "outputs": [
    {
     "name": "stdout",
     "output_type": "stream",
     "text": [
      "order_id                     0\n",
      "customer_id                  0\n",
      "customer_name                0\n",
      "product_id                   0\n",
      "product_name                 8\n",
      "product_category             0\n",
      "payment_type                 0\n",
      "qty                          0\n",
      "price                        0\n",
      "datetime                     0\n",
      "country                      0\n",
      "city                         0\n",
      "ecommerce_website_name       0\n",
      "payment_txn_id               0\n",
      "payment_txn_success          0\n",
      "failure_reason            5016\n",
      "dtype: int64\n"
     ]
    }
   ],
   "source": [
    "# Check for missing values\n",
    "print(data.isnull().sum())"
   ]
  },
  {
   "cell_type": "code",
   "execution_count": 15,
   "id": "e5ee7100-74e3-4249-86fa-e46530aaf080",
   "metadata": {},
   "outputs": [
    {
     "name": "stdout",
     "output_type": "stream",
     "text": [
      "Inserted the values for product nulls\n"
     ]
    }
   ],
   "source": [
    "#Filling the null values \n",
    "data = data.assign(product_name = data['product_name'].fillna('Unknown Product'))\n",
    "print(\"Inserted the values for product nulls\")"
   ]
  },
  {
   "cell_type": "code",
   "execution_count": 16,
   "id": "38dc94bc-c896-4662-83f3-7df471a6f2f9",
   "metadata": {},
   "outputs": [
    {
     "name": "stdout",
     "output_type": "stream",
     "text": [
      "Inserted the values for payment nulls successfully\n"
     ]
    }
   ],
   "source": [
    "condition = (data['payment_txn_success'] == 'Y') & (data['failure_reason'].isnull())\n",
    "data.loc[condition, 'failure_reason'] = 'Payment_successful'\n",
    "print(\"Inserted the values for payment nulls successfully\")"
   ]
  },
  {
   "cell_type": "code",
   "execution_count": 17,
   "id": "a1ca9ca0-c020-4f79-a319-fa012c720d71",
   "metadata": {},
   "outputs": [
    {
     "name": "stdout",
     "output_type": "stream",
     "text": [
      "   order_id  customer_id    customer_name  product_id product_name  \\\n",
      "0         1          754   Thomas Schultz         214         Data   \n",
      "1         2          132   Matthew Lawson         203     Language   \n",
      "2         3          325     Dana Acevedo         257     Probably   \n",
      "3         4          259    Mario Anthony         227    Structure   \n",
      "4         5          926  Dr. Justin Cruz         205          Sit   \n",
      "\n",
      "  product_category      payment_type  qty   price          datetime country  \\\n",
      "0       Stationery               UPI    4  227.09  2024-04-18 22:08   India   \n",
      "1       Stationery  Internet Banking    4  507.83  2023-09-19 13:10   India   \n",
      "2             Toys               UPI    1  760.01  2023-09-16 11:40     USA   \n",
      "3            Books              Card    2  383.03  2024-01-05 01:26      UK   \n",
      "4         Clothing              Card    7   83.41  2024-06-03 23:03      UK   \n",
      "\n",
      "         city ecommerce_website_name payment_txn_id payment_txn_success  \\\n",
      "0     Kolkata         www.amazon.com       f03b1dca                   N   \n",
      "1     Kolkata       www.flipkart.com       1fa817d5                   N   \n",
      "2     Houston            www.ebay.in       d156f089                   N   \n",
      "3  Birmingham       www.snapdeal.com       2b323371                   N   \n",
      "4      Oxford            www.ebay.in       01faa5bc                   Y   \n",
      "\n",
      "       failure_reason  \n",
      "0        Invalid CVV.  \n",
      "1        Invalid CVV.  \n",
      "2        Invalid CVV.  \n",
      "3        Invalid CVV.  \n",
      "4  Payment_successful  \n"
     ]
    }
   ],
   "source": [
    "print(data.head())"
   ]
  },
  {
   "cell_type": "code",
   "execution_count": 18,
   "id": "f6b621c2-0013-4aaa-974c-e7ed98b46435",
   "metadata": {},
   "outputs": [
    {
     "name": "stdout",
     "output_type": "stream",
     "text": [
      "order_id                  0\n",
      "customer_id               0\n",
      "customer_name             0\n",
      "product_id                0\n",
      "product_name              0\n",
      "product_category          0\n",
      "payment_type              0\n",
      "qty                       0\n",
      "price                     0\n",
      "datetime                  0\n",
      "country                   0\n",
      "city                      0\n",
      "ecommerce_website_name    0\n",
      "payment_txn_id            0\n",
      "payment_txn_success       0\n",
      "failure_reason            0\n",
      "dtype: int64\n"
     ]
    }
   ],
   "source": [
    "# Check for missing values\n",
    "print(data.isnull().sum())"
   ]
  },
  {
   "cell_type": "code",
   "execution_count": 19,
   "id": "a7d3f26e-49fc-4c64-a9a7-45911b420c87",
   "metadata": {},
   "outputs": [
    {
     "name": "stdout",
     "output_type": "stream",
     "text": [
      "0\n"
     ]
    }
   ],
   "source": [
    "# Check for duplicates\n",
    "print(data.duplicated().sum())"
   ]
  },
  {
   "cell_type": "code",
   "execution_count": null,
   "id": "59e798ed-2977-419d-b5cb-715180acce8a",
   "metadata": {},
   "outputs": [],
   "source": []
  }
 ],
 "metadata": {
  "kernelspec": {
   "display_name": "PySpark 3.3.1",
   "language": "python",
   "name": "pyspark3.3.1"
  },
  "language_info": {
   "codemirror_mode": {
    "name": "ipython",
    "version": 3
   },
   "file_extension": ".py",
   "mimetype": "text/x-python",
   "name": "python",
   "nbconvert_exporter": "python",
   "pygments_lexer": "ipython3",
   "version": "3.10.1"
  }
 },
 "nbformat": 4,
 "nbformat_minor": 5
}
